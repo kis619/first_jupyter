{
 "cells": [
  {
   "cell_type": "code",
   "execution_count": 5,
   "id": "63d45abf",
   "metadata": {},
   "outputs": [],
   "source": [
    "import numpy as np"
   ]
  },
  {
   "cell_type": "markdown",
   "id": "f595f86f",
   "metadata": {},
   "source": [
    "## DataTypes & Attributes"
   ]
  },
  {
   "cell_type": "code",
   "execution_count": 6,
   "id": "40ca49fc",
   "metadata": {},
   "outputs": [
    {
     "data": {
      "text/plain": [
       "array([1, 2, 3])"
      ]
     },
     "execution_count": 6,
     "metadata": {},
     "output_type": "execute_result"
    },
    {
     "data": {
      "text/plain": [
       "array([1, 2, 3])"
      ]
     },
     "execution_count": 6,
     "metadata": {},
     "output_type": "execute_result"
    }
   ],
   "source": [
    "# NumPy's main datatype is ndarray\n",
    "a1 = np.array([1, 2, 3])\n",
    "a1"
   ]
  },
  {
   "cell_type": "code",
   "execution_count": 7,
   "id": "d6d2b20e",
   "metadata": {},
   "outputs": [],
   "source": [
    "type(a1)"
   ]
  },
  {
   "cell_type": "code",
   "execution_count": 8,
   "id": "2a100e1d",
   "metadata": {},
   "outputs": [],
   "source": [
    "a2 = np.array([[1, 2.0, 3.3], [4, 5, 6.5]])\n",
    "\n",
    "a3 = np.array([[[1, 2, 3],\n",
    "                [4, 5, 6],\n",
    "                [7, 8, 9]],\n",
    "               [[10, 11, 12],\n",
    "                [13, 14, 15],\n",
    "                [16, 17, 18]]])"
   ]
  },
  {
   "cell_type": "code",
   "execution_count": 9,
   "id": "6e63f399",
   "metadata": {},
   "outputs": [],
   "source": [
    "a2"
   ]
  },
  {
   "cell_type": "code",
   "execution_count": 10,
   "id": "86d28fed",
   "metadata": {},
   "outputs": [],
   "source": [
    "a3"
   ]
  },
  {
   "cell_type": "code",
   "execution_count": 11,
   "id": "ac3fed65",
   "metadata": {},
   "outputs": [],
   "source": [
    "a1.shape"
   ]
  },
  {
   "cell_type": "code",
   "execution_count": 12,
   "id": "3d7216ae",
   "metadata": {},
   "outputs": [],
   "source": [
    "a2.shape"
   ]
  },
  {
   "cell_type": "code",
   "execution_count": 13,
   "id": "7960351a",
   "metadata": {},
   "outputs": [],
   "source": [
    "a3.shape"
   ]
  },
  {
   "cell_type": "code",
   "execution_count": 14,
   "id": "948460aa",
   "metadata": {},
   "outputs": [],
   "source": [
    "a1.ndim, a2.ndim, a3.ndim"
   ]
  },
  {
   "cell_type": "code",
   "execution_count": 15,
   "id": "334618d5",
   "metadata": {},
   "outputs": [],
   "source": [
    "a1.dtype"
   ]
  },
  {
   "cell_type": "code",
   "execution_count": 16,
   "id": "cc6ee771",
   "metadata": {},
   "outputs": [],
   "source": [
    "a2.dtype, a3.dtype"
   ]
  },
  {
   "cell_type": "code",
   "execution_count": 17,
   "id": "14f94951",
   "metadata": {},
   "outputs": [],
   "source": [
    "a1.size, a2.size, a3.size"
   ]
  },
  {
   "cell_type": "code",
   "execution_count": 18,
   "id": "5ccff286",
   "metadata": {},
   "outputs": [],
   "source": [
    "type(a1), type(a2), type(a3)"
   ]
  },
  {
   "cell_type": "code",
   "execution_count": 19,
   "id": "429dae10",
   "metadata": {},
   "outputs": [],
   "source": [
    "# Create a DataFrame from a Numpy array\n",
    "import pandas as pd\n",
    "\n",
    "df = pd.DataFrame(a2)\n",
    "df"
   ]
  },
  {
   "cell_type": "markdown",
   "id": "74398410",
   "metadata": {},
   "source": [
    "## 2. Creating arrays"
   ]
  },
  {
   "cell_type": "code",
   "execution_count": 20,
   "id": "d2128972",
   "metadata": {},
   "outputs": [],
   "source": [
    "sample_array = np.array([1, 2, 3])\n",
    "sample_array"
   ]
  },
  {
   "cell_type": "code",
   "execution_count": 21,
   "id": "7ec2a5c4",
   "metadata": {},
   "outputs": [],
   "source": [
    "sample_array.dtype"
   ]
  },
  {
   "cell_type": "code",
   "execution_count": 22,
   "id": "c7a1a6d4",
   "metadata": {},
   "outputs": [],
   "source": [
    "ones = np.ones())\n",
    "ones"
   ]
  },
  {
   "cell_type": "code",
   "execution_count": null,
   "id": "66383a18",
   "metadata": {},
   "outputs": [],
   "source": [
    "ones.dtype"
   ]
  },
  {
   "cell_type": "code",
   "execution_count": null,
   "id": "5aae43e7",
   "metadata": {},
   "outputs": [],
   "source": [
    "type(ones)"
   ]
  },
  {
   "cell_type": "code",
   "execution_count": null,
   "id": "a0a6b4ce",
   "metadata": {},
   "outputs": [],
   "source": [
    "zeros = np.zeros((2,3))\n",
    "zeros"
   ]
  },
  {
   "cell_type": "code",
   "execution_count": null,
   "id": "8d1001f0",
   "metadata": {},
   "outputs": [],
   "source": [
    "range_array = np.arange(0, 10, 2)"
   ]
  },
  {
   "cell_type": "code",
   "execution_count": null,
   "id": "94ce52fa",
   "metadata": {},
   "outputs": [],
   "source": [
    "range_array"
   ]
  },
  {
   "cell_type": "code",
   "execution_count": null,
   "id": "a87c88a6",
   "metadata": {},
   "outputs": [],
   "source": [
    "random_array = np.random.randint((10, 12))\n",
    "random_array"
   ]
  },
  {
   "cell_type": "markdown",
   "id": "e27e1834",
   "metadata": {},
   "source": [
    "# random_array_seed"
   ]
  },
  {
   "cell_type": "code",
   "execution_count": null,
   "id": "9040d282",
   "metadata": {},
   "outputs": [],
   "source": [
    "np.random.seed(6)\n",
    "               \n",
    "random_array_2 = np.random.randint(5, 99, (3, 3))\n",
    "random_array_2"
   ]
  },
  {
   "cell_type": "markdown",
   "id": "a81174dd",
   "metadata": {},
   "source": [
    "## 3. Viewing arrays and matrices"
   ]
  },
  {
   "cell_type": "code",
   "execution_count": null,
   "id": "63b4413a",
   "metadata": {},
   "outputs": [],
   "source": [
    "np.unique(random_array_2)"
   ]
  },
  {
   "cell_type": "code",
   "execution_count": null,
   "id": "3bd687a3",
   "metadata": {},
   "outputs": [],
   "source": [
    "a1, a2, a3"
   ]
  },
  {
   "cell_type": "code",
   "execution_count": null,
   "id": "02ea134b",
   "metadata": {},
   "outputs": [],
   "source": [
    "a1[0], a2[0], a3[0]"
   ]
  },
  {
   "cell_type": "code",
   "execution_count": null,
   "id": "43cf1c1d",
   "metadata": {},
   "outputs": [],
   "source": [
    "a3[:2, :2, :2]"
   ]
  },
  {
   "cell_type": "code",
   "execution_count": null,
   "id": "83ebc84f",
   "metadata": {},
   "outputs": [],
   "source": [
    "a4 = np.random.randint(10, size=(2, 3, 3, 5))\n",
    "# a4 = np.random.Generator.randint()\n",
    "a4"
   ]
  },
  {
   "cell_type": "code",
   "execution_count": null,
   "id": "3445a35e",
   "metadata": {},
   "outputs": [],
   "source": [
    "a4.shape, a4.ndim, a4.dtype"
   ]
  },
  {
   "cell_type": "code",
   "execution_count": null,
   "id": "910f6278",
   "metadata": {},
   "outputs": [],
   "source": [
    "# Get the first 4 numbers of the inner most array\n",
    "a4[1, 2, 0, :4]"
   ]
  },
  {
   "cell_type": "code",
   "execution_count": null,
   "id": "96793e46",
   "metadata": {},
   "outputs": [],
   "source": [
    "# Get the first 4 numbers of the inner most arrays\n",
    "a4[:, :, :1, :4]"
   ]
  },
  {
   "cell_type": "markdown",
   "id": "5208df10",
   "metadata": {},
   "source": [
    "## 4. Manipulating & comparing arrays"
   ]
  },
  {
   "cell_type": "markdown",
   "id": "758b343e",
   "metadata": {},
   "source": [
    "### Arithmetic"
   ]
  },
  {
   "cell_type": "code",
   "execution_count": null,
   "id": "6a4ad275",
   "metadata": {},
   "outputs": [],
   "source": [
    "a1"
   ]
  },
  {
   "cell_type": "code",
   "execution_count": null,
   "id": "725e98ae",
   "metadata": {},
   "outputs": [],
   "source": [
    "ones"
   ]
  },
  {
   "cell_type": "code",
   "execution_count": null,
   "id": "b80a02db",
   "metadata": {},
   "outputs": [],
   "source": [
    "a1 + ones"
   ]
  },
  {
   "cell_type": "code",
   "execution_count": null,
   "id": "dd230433",
   "metadata": {},
   "outputs": [],
   "source": [
    "a1 - ones"
   ]
  },
  {
   "cell_type": "code",
   "execution_count": null,
   "id": "888fbd46",
   "metadata": {},
   "outputs": [],
   "source": [
    "a1 * ones"
   ]
  },
  {
   "cell_type": "code",
   "execution_count": null,
   "id": "f8444c47",
   "metadata": {},
   "outputs": [],
   "source": [
    "a2"
   ]
  },
  {
   "cell_type": "code",
   "execution_count": null,
   "id": "a257b075",
   "metadata": {},
   "outputs": [],
   "source": [
    "a1 * a2"
   ]
  },
  {
   "cell_type": "code",
   "execution_count": null,
   "id": "3b55874f",
   "metadata": {},
   "outputs": [],
   "source": [
    "a3"
   ]
  },
  {
   "cell_type": "code",
   "execution_count": null,
   "id": "6be59d8c",
   "metadata": {},
   "outputs": [],
   "source": [
    "a1 * a3"
   ]
  },
  {
   "cell_type": "code",
   "execution_count": null,
   "id": "1723cab1",
   "metadata": {},
   "outputs": [],
   "source": [
    "a2[:,:,None] * a3"
   ]
  },
  {
   "cell_type": "code",
   "execution_count": null,
   "id": "4ee7bc54",
   "metadata": {},
   "outputs": [],
   "source": [
    "a1 / ones"
   ]
  },
  {
   "cell_type": "code",
   "execution_count": null,
   "id": "9203684d",
   "metadata": {},
   "outputs": [],
   "source": [
    " zeros"
   ]
  },
  {
   "cell_type": "code",
   "execution_count": null,
   "id": "0dd87b45",
   "metadata": {},
   "outputs": [],
   "source": [
    "a1 / zeros"
   ]
  },
  {
   "cell_type": "code",
   "execution_count": null,
   "id": "9bd81ad7",
   "metadata": {},
   "outputs": [],
   "source": [
    "a2"
   ]
  },
  {
   "cell_type": "code",
   "execution_count": null,
   "id": "94c86601",
   "metadata": {},
   "outputs": [],
   "source": [
    "a2 ** 3"
   ]
  },
  {
   "cell_type": "code",
   "execution_count": null,
   "id": "0cc6dbcc",
   "metadata": {},
   "outputs": [],
   "source": [
    "np.square(a2)"
   ]
  },
  {
   "cell_type": "code",
   "execution_count": null,
   "id": "27c48492",
   "metadata": {},
   "outputs": [],
   "source": [
    "np.exp(a2)"
   ]
  },
  {
   "cell_type": "code",
   "execution_count": null,
   "id": "8f51e059",
   "metadata": {},
   "outputs": [],
   "source": [
    "np.log(a2)"
   ]
  },
  {
   "cell_type": "markdown",
   "id": "641d436b",
   "metadata": {},
   "source": [
    "### Aggregation"
   ]
  },
  {
   "cell_type": "code",
   "execution_count": null,
   "id": "8a920b0d",
   "metadata": {},
   "outputs": [],
   "source": [
    "my_list = [1, 2, 3]\n",
    "list_sum = sum(my_list)\n",
    "list_sum"
   ]
  },
  {
   "cell_type": "code",
   "execution_count": null,
   "id": "4dfa9026",
   "metadata": {},
   "outputs": [],
   "source": [
    "a1"
   ]
  },
  {
   "cell_type": "markdown",
   "id": "631085e1",
   "metadata": {},
   "source": [
    "Use Python's methods `sum()` on Python datatypes and use NumPy's methods on NumPy arrays `np.sum()`"
   ]
  },
  {
   "cell_type": "code",
   "execution_count": null,
   "id": "32fa946b",
   "metadata": {},
   "outputs": [],
   "source": [
    "# Create a massive Numpy array\n",
    "np.random.seed(19)\n",
    "massive_array = np.random.random(10000)\n",
    "massive_array.size"
   ]
  },
  {
   "cell_type": "code",
   "execution_count": null,
   "id": "3bd98156",
   "metadata": {},
   "outputs": [],
   "source": [
    "massive_array"
   ]
  },
  {
   "cell_type": "code",
   "execution_count": null,
   "id": "9750f0f3",
   "metadata": {},
   "outputs": [],
   "source": [
    "massive_array[:10]"
   ]
  },
  {
   "cell_type": "code",
   "execution_count": null,
   "id": "4bacdd77",
   "metadata": {},
   "outputs": [],
   "source": [
    "%timeit sum(massive_array)\n",
    "%timeit np.sum(massive_array)"
   ]
  },
  {
   "cell_type": "code",
   "execution_count": null,
   "id": "4d13067d",
   "metadata": {},
   "outputs": [],
   "source": [
    "np.mean(a2)"
   ]
  },
  {
   "cell_type": "code",
   "execution_count": null,
   "id": "cc0c9191",
   "metadata": {},
   "outputs": [],
   "source": [
    "np.max(a2)"
   ]
  },
  {
   "cell_type": "code",
   "execution_count": null,
   "id": "3cafae64",
   "metadata": {},
   "outputs": [],
   "source": [
    "# Standard deviation = a measure of how spread out a group of numbers is\n",
    "# from the mean\n",
    "np.std(a2), np.sqrt(np.var(a2))\n"
   ]
  },
  {
   "cell_type": "code",
   "execution_count": null,
   "id": "ce9fe7d5",
   "metadata": {},
   "outputs": [],
   "source": [
    "# Variance = measure of the average degree to which each number\n",
    "# is different to the mean\n",
    "# Higher variance = wider range of numbers\n",
    "# Lower variance = lower range of numbers\n",
    "np.var(a2)"
   ]
  },
  {
   "cell_type": "code",
   "execution_count": null,
   "id": "9284e504",
   "metadata": {},
   "outputs": [],
   "source": [
    "# Demo of std and var\n",
    "high_var_array = np.array([1, 100, 300, 300, 4000, 5000])\n",
    "low_var_array = np.array([2, 4, 6, 8, 10])"
   ]
  },
  {
   "cell_type": "code",
   "execution_count": null,
   "id": "507dd492",
   "metadata": {},
   "outputs": [],
   "source": [
    "np.var(high_var_array), np.var(low_var_array)"
   ]
  },
  {
   "cell_type": "code",
   "execution_count": null,
   "id": "57a97c6e",
   "metadata": {},
   "outputs": [],
   "source": [
    "np.std(high_var_array), np.std(low_var_array)"
   ]
  },
  {
   "cell_type": "code",
   "execution_count": null,
   "id": "ff15a08d",
   "metadata": {},
   "outputs": [],
   "source": [
    "np.mean(high_var_array), np.mean(low_var_array)"
   ]
  },
  {
   "cell_type": "code",
   "execution_count": null,
   "id": "9a98e7df",
   "metadata": {},
   "outputs": [],
   "source": [
    "%matplotlib inline\n",
    "import matplotlib.pyplot as plt\n",
    "plt.hist(high_var_array)\n",
    "plt.show()"
   ]
  },
  {
   "cell_type": "code",
   "execution_count": null,
   "id": "3be6922a",
   "metadata": {},
   "outputs": [],
   "source": [
    "plt.hist(low_var_array)\n",
    "plt.show()"
   ]
  },
  {
   "cell_type": "markdown",
   "id": "ddb8964e",
   "metadata": {},
   "source": [
    "## Reshaping & transposing"
   ]
  },
  {
   "cell_type": "code",
   "execution_count": null,
   "id": "c3f622e9",
   "metadata": {},
   "outputs": [],
   "source": [
    "a2, a3"
   ]
  },
  {
   "cell_type": "code",
   "execution_count": null,
   "id": "a365f520",
   "metadata": {},
   "outputs": [],
   "source": [
    "a2.shape, a3.shape"
   ]
  },
  {
   "cell_type": "code",
   "execution_count": null,
   "id": "80b79b19",
   "metadata": {},
   "outputs": [],
   "source": [
    "a2 * a3"
   ]
  },
  {
   "cell_type": "code",
   "execution_count": null,
   "id": "7456c47e",
   "metadata": {},
   "outputs": [],
   "source": [
    " a2.reshape(2, 3, 1).shape"
   ]
  },
  {
   "cell_type": "code",
   "execution_count": null,
   "id": "b4d30311",
   "metadata": {},
   "outputs": [],
   "source": [
    "a2"
   ]
  },
  {
   "cell_type": "code",
   "execution_count": null,
   "id": "8021e5e7",
   "metadata": {},
   "outputs": [],
   "source": [
    "a2_reshape = a2.reshape(2, 3, 1)"
   ]
  },
  {
   "cell_type": "code",
   "execution_count": null,
   "id": "1fffc2ff",
   "metadata": {},
   "outputs": [],
   "source": [
    "a2_reshape * a3"
   ]
  },
  {
   "cell_type": "code",
   "execution_count": null,
   "id": "c9322fde",
   "metadata": {},
   "outputs": [],
   "source": [
    "# Transpose = swittches the axis'\n",
    "a2, a2.T"
   ]
  },
  {
   "cell_type": "code",
   "execution_count": null,
   "id": "2725b613",
   "metadata": {},
   "outputs": [],
   "source": [
    "a3.shape, a3.T.shape"
   ]
  },
  {
   "cell_type": "code",
   "execution_count": null,
   "id": "5e5e18a5",
   "metadata": {},
   "outputs": [],
   "source": [
    "a3, a3.T"
   ]
  },
  {
   "cell_type": "markdown",
   "id": "0aba971d",
   "metadata": {},
   "source": [
    "## Dot product"
   ]
  },
  {
   "cell_type": "code",
   "execution_count": null,
   "id": "7ef687cb",
   "metadata": {},
   "outputs": [],
   "source": [
    "np.random.seed(0)\n",
    "mat1 = np.random.randint(10, size=(5,3))\n",
    "mat2 = np.random.randint(10, size=(5,3))"
   ]
  },
  {
   "cell_type": "code",
   "execution_count": null,
   "id": "d45e929e",
   "metadata": {},
   "outputs": [],
   "source": [
    "mat1, mat2, mat1.shape, mat2.shape"
   ]
  },
  {
   "cell_type": "code",
   "execution_count": null,
   "id": "8c151c7a",
   "metadata": {},
   "outputs": [],
   "source": [
    "# Element-wise multiplication (Hadamard product)\n",
    "mat1 * mat2"
   ]
  },
  {
   "cell_type": "code",
   "execution_count": null,
   "id": "9e5af84e",
   "metadata": {},
   "outputs": [],
   "source": [
    "# Dot product\n",
    "\n",
    "np.dot(mat1, mat2.T)"
   ]
  },
  {
   "cell_type": "markdown",
   "id": "cd3c291f",
   "metadata": {},
   "source": [
    "## Exercise"
   ]
  },
  {
   "cell_type": "code",
   "execution_count": null,
   "id": "c628f772",
   "metadata": {},
   "outputs": [],
   "source": [
    "# Creating tables with pandas"
   ]
  },
  {
   "cell_type": "code",
   "execution_count": null,
   "id": "05cfecbb",
   "metadata": {},
   "outputs": [],
   "source": [
    "prices = pd.Series([10, 8, 12])\n",
    "prices"
   ]
  },
  {
   "cell_type": "code",
   "execution_count": null,
   "id": "ba6812f4",
   "metadata": {},
   "outputs": [],
   "source": [
    "nut_butter_sales = pd.DataFrame({\n",
    "    \"Almond butter\": [2, 9, 11, 13, 15],\n",
    "    \"Peanut butter\": [7, 4, 14, 13, 18],\n",
    "    \"Cashew butter\": [1, 16, 18, 16, 9],\n",
    "})\n",
    "nut_butter_sales"
   ]
  },
  {
   "cell_type": "code",
   "execution_count": null,
   "id": "313215a8",
   "metadata": {},
   "outputs": [],
   "source": [
    "index_mapping = {0: \"Mon\", 1: \"Tue\", 2: \"Wed\", 3: \"Thu\", 4: \"Fri\"}\n",
    "nut_butter_sales.rename(index=index_mapping, inplace=True)"
   ]
  },
  {
   "cell_type": "code",
   "execution_count": null,
   "id": "beaba33b",
   "metadata": {},
   "outputs": [],
   "source": [
    "nut_butter_sales"
   ]
  },
  {
   "cell_type": "code",
   "execution_count": null,
   "id": "be4482ef",
   "metadata": {},
   "outputs": [],
   "source": [
    "prices.name = \"Price\""
   ]
  },
  {
   "cell_type": "code",
   "execution_count": null,
   "id": "4a466b7a",
   "metadata": {},
   "outputs": [],
   "source": [
    "prices.index = [\"Almond butter\", \"Peanut butter\", \"Cashew butter\"]"
   ]
  },
  {
   "cell_type": "code",
   "execution_count": null,
   "id": "45ab6308",
   "metadata": {},
   "outputs": [],
   "source": [
    "prices"
   ]
  },
  {
   "cell_type": "code",
   "execution_count": null,
   "id": "901add1f",
   "metadata": {},
   "outputs": [],
   "source": [
    "# Creating it as in the video"
   ]
  },
  {
   "cell_type": "code",
   "execution_count": null,
   "id": "438ba1f2",
   "metadata": {},
   "outputs": [],
   "source": [
    "np.random.seed(0)\n",
    "# Number of jars sold\n",
    "sales_amount = np.random.randint(20, size=(5,3))\n",
    "sales_amount"
   ]
  },
  {
   "cell_type": "code",
   "execution_count": null,
   "id": "83534db2",
   "metadata": {},
   "outputs": [],
   "source": [
    "# Create weekly sales DataFrame\n",
    "weekly_sales = pd.DataFrame(sales_amount,\n",
    "                            index=[\"Mon\", \"Tue\", \"Wed\", \"Thu\", \"Fri\"],\n",
    "                            columns=[\"Almond butter\", \"Peanut butter\", \"Cashew butter\"])\n",
    "weekly_sales"
   ]
  },
  {
   "cell_type": "code",
   "execution_count": null,
   "id": "0c741b6d",
   "metadata": {},
   "outputs": [],
   "source": [
    "# Create prices array\n",
    "test_prices = np.array([10, 8, 12])\n",
    "test_prices"
   ]
  },
  {
   "cell_type": "code",
   "execution_count": null,
   "id": "b53dee05",
   "metadata": {},
   "outputs": [],
   "source": [
    "# Create prices DataFrame\n",
    "prices_df = pd.DataFrame(test_prices.reshape(1, 3),\n",
    "                         index=[\"Price\"],\n",
    "                         columns=[\"Almond butter\", \"Peanut butter\", \"Cashew butter\"])\n",
    "prices_df"
   ]
  },
  {
   "cell_type": "code",
   "execution_count": null,
   "id": "f191990f",
   "metadata": {},
   "outputs": [],
   "source": [
    "total_sales = np.dot(prices_df, weekly_sales.T)[0]\n",
    "total_sales"
   ]
  },
  {
   "cell_type": "code",
   "execution_count": null,
   "id": "d490cb8a",
   "metadata": {},
   "outputs": [],
   "source": [
    "weekly_sales[\"Total ($)\"] = total_sales"
   ]
  },
  {
   "cell_type": "code",
   "execution_count": null,
   "id": "c3b6d519",
   "metadata": {},
   "outputs": [],
   "source": [
    "weekly_sales"
   ]
  },
  {
   "cell_type": "markdown",
   "id": "b1bcbcd9",
   "metadata": {},
   "source": [
    "### Comparison Operators"
   ]
  },
  {
   "cell_type": "code",
   "execution_count": 24,
   "id": "6163e1c6",
   "metadata": {},
   "outputs": [
    {
     "data": {
      "text/plain": [
       "(array([1, 2, 3]),\n",
       " array([[1. , 2. , 3.3],\n",
       "        [4. , 5. , 6.5]]))"
      ]
     },
     "execution_count": 24,
     "metadata": {},
     "output_type": "execute_result"
    }
   ],
   "source": [
    "a1, a2"
   ]
  },
  {
   "cell_type": "code",
   "execution_count": 25,
   "id": "697ffe5e",
   "metadata": {},
   "outputs": [
    {
     "data": {
      "text/plain": [
       "array([[False, False, False],\n",
       "       [False, False, False]])"
      ]
     },
     "execution_count": 25,
     "metadata": {},
     "output_type": "execute_result"
    }
   ],
   "source": [
    "a1 > a2"
   ]
  },
  {
   "cell_type": "code",
   "execution_count": 26,
   "id": "d3f28f07",
   "metadata": {},
   "outputs": [],
   "source": [
    "bool_array = a1 >= a2"
   ]
  },
  {
   "cell_type": "code",
   "execution_count": 27,
   "id": "55fdd06a",
   "metadata": {},
   "outputs": [
    {
     "data": {
      "text/plain": [
       "(numpy.ndarray, dtype('bool'))"
      ]
     },
     "execution_count": 27,
     "metadata": {},
     "output_type": "execute_result"
    }
   ],
   "source": [
    "type(bool_array), bool_array.dtype"
   ]
  },
  {
   "cell_type": "code",
   "execution_count": 28,
   "id": "27b036bf",
   "metadata": {},
   "outputs": [
    {
     "data": {
      "text/plain": [
       "array([False, False, False])"
      ]
     },
     "execution_count": 28,
     "metadata": {},
     "output_type": "execute_result"
    }
   ],
   "source": [
    "a1 > 5"
   ]
  },
  {
   "cell_type": "code",
   "execution_count": 29,
   "id": "5ced34f4",
   "metadata": {},
   "outputs": [
    {
     "data": {
      "text/plain": [
       "array([[ True,  True, False],\n",
       "       [False, False, False]])"
      ]
     },
     "execution_count": 29,
     "metadata": {},
     "output_type": "execute_result"
    }
   ],
   "source": [
    "a1 == a2"
   ]
  },
  {
   "cell_type": "code",
   "execution_count": 32,
   "id": "f4ff5bf5",
   "metadata": {},
   "outputs": [],
   "source": [
    "b1 = np.array([2, 5 ,123123])"
   ]
  },
  {
   "cell_type": "code",
   "execution_count": 33,
   "id": "6e7cd389",
   "metadata": {},
   "outputs": [
    {
     "data": {
      "text/plain": [
       "array([[False, False, False],\n",
       "       [False,  True, False]])"
      ]
     },
     "execution_count": 33,
     "metadata": {},
     "output_type": "execute_result"
    }
   ],
   "source": [
    "b1 == a2"
   ]
  },
  {
   "cell_type": "markdown",
   "id": "895e6dd4",
   "metadata": {},
   "source": [
    "# 5. Sorting arrays"
   ]
  },
  {
   "cell_type": "code",
   "execution_count": 36,
   "id": "f86ea2cb",
   "metadata": {},
   "outputs": [
    {
     "data": {
      "text/plain": [
       "array([[9, 7, 1, 1, 4],\n",
       "       [1, 1, 2, 7, 2],\n",
       "       [9, 7, 3, 1, 8]])"
      ]
     },
     "execution_count": 36,
     "metadata": {},
     "output_type": "execute_result"
    }
   ],
   "source": [
    "random_array = np.random.randint(10, size=(3,5))\n",
    "random_array"
   ]
  },
  {
   "cell_type": "code",
   "execution_count": 35,
   "id": "d58c4864",
   "metadata": {},
   "outputs": [
    {
     "data": {
      "text/plain": [
       "(3, 5)"
      ]
     },
     "execution_count": 35,
     "metadata": {},
     "output_type": "execute_result"
    }
   ],
   "source": [
    "random_array.shape"
   ]
  },
  {
   "cell_type": "code",
   "execution_count": 37,
   "id": "9bd2ff31",
   "metadata": {},
   "outputs": [
    {
     "data": {
      "text/plain": [
       "array([[1, 1, 4, 7, 9],\n",
       "       [1, 1, 2, 2, 7],\n",
       "       [1, 3, 7, 8, 9]])"
      ]
     },
     "execution_count": 37,
     "metadata": {},
     "output_type": "execute_result"
    }
   ],
   "source": [
    "np.sort(random_array)"
   ]
  },
  {
   "cell_type": "code",
   "execution_count": 38,
   "id": "110f38c9",
   "metadata": {},
   "outputs": [
    {
     "data": {
      "text/plain": [
       "array([[2, 3, 4, 1, 0],\n",
       "       [0, 1, 2, 4, 3],\n",
       "       [3, 2, 1, 4, 0]])"
      ]
     },
     "execution_count": 38,
     "metadata": {},
     "output_type": "execute_result"
    }
   ],
   "source": [
    "np.argsort(random_array)"
   ]
  },
  {
   "cell_type": "code",
   "execution_count": 41,
   "id": "868f7ba5",
   "metadata": {},
   "outputs": [
    {
     "data": {
      "text/plain": [
       "array([1, 1, 0, 0, 1])"
      ]
     },
     "execution_count": 41,
     "metadata": {},
     "output_type": "execute_result"
    }
   ],
   "source": [
    "np.argmin(random_array, axis=0)"
   ]
  },
  {
   "cell_type": "code",
   "execution_count": 42,
   "id": "dff4377a",
   "metadata": {},
   "outputs": [
    {
     "data": {
      "text/plain": [
       "array([0, 3, 0])"
      ]
     },
     "execution_count": 42,
     "metadata": {},
     "output_type": "execute_result"
    }
   ],
   "source": [
    "np.argmax(random_array, axis=1)"
   ]
  },
  {
   "cell_type": "markdown",
   "id": "e0c0c726",
   "metadata": {},
   "source": [
    "# 6. Practical Example - NumPy in Action!!!!"
   ]
  },
  {
   "cell_type": "markdown",
   "id": "da88dbd1",
   "metadata": {},
   "source": [
    "![Image Description](panda.png)\n"
   ]
  },
  {
   "cell_type": "code",
   "execution_count": 53,
   "id": "85507008",
   "metadata": {},
   "outputs": [
    {
     "data": {
      "text/plain": [
       "numpy.ndarray"
      ]
     },
     "execution_count": 53,
     "metadata": {},
     "output_type": "execute_result"
    }
   ],
   "source": [
    "# Turn an image into a NumPy array\n",
    "from matplotlib.image import imread\n",
    "\n",
    "panda = imread(\"images/panda.png\")\n",
    "type(panda)"
   ]
  },
  {
   "cell_type": "code",
   "execution_count": 54,
   "id": "39a1f621",
   "metadata": {},
   "outputs": [
    {
     "data": {
      "text/plain": [
       "(24465000, (2330, 3500, 3), 3)"
      ]
     },
     "execution_count": 54,
     "metadata": {},
     "output_type": "execute_result"
    }
   ],
   "source": [
    "panda.size, panda.shape, panda.ndim"
   ]
  },
  {
   "cell_type": "code",
   "execution_count": 57,
   "id": "64376dcf",
   "metadata": {},
   "outputs": [],
   "source": [
    "car = imread(\"images/car-photo.png\")"
   ]
  },
  {
   "cell_type": "code",
   "execution_count": 58,
   "id": "c9689650",
   "metadata": {},
   "outputs": [
    {
     "data": {
      "text/plain": [
       "(991300, (431, 575, 4), 3)"
      ]
     },
     "execution_count": 58,
     "metadata": {},
     "output_type": "execute_result"
    }
   ],
   "source": [
    "car.size, car.shape, car.ndim"
   ]
  },
  {
   "cell_type": "code",
   "execution_count": 59,
   "id": "ba6e4f28",
   "metadata": {},
   "outputs": [],
   "source": [
    "dog = imread(\"images/dog-photo.png\")"
   ]
  },
  {
   "cell_type": "code",
   "execution_count": 61,
   "id": "94fd4550",
   "metadata": {},
   "outputs": [
    {
     "data": {
      "text/plain": [
       "(993600, (432, 575, 4), 3)"
      ]
     },
     "execution_count": 61,
     "metadata": {},
     "output_type": "execute_result"
    }
   ],
   "source": [
    "dog.size, dog.shape, dog.ndim"
   ]
  },
  {
   "cell_type": "code",
   "execution_count": null,
   "id": "b0bd8544",
   "metadata": {},
   "outputs": [],
   "source": []
  }
 ],
 "metadata": {
  "kernelspec": {
   "display_name": "Python 3 (ipykernel)",
   "language": "python",
   "name": "python3"
  },
  "language_info": {
   "codemirror_mode": {
    "name": "ipython",
    "version": 3
   },
   "file_extension": ".py",
   "mimetype": "text/x-python",
   "name": "python",
   "nbconvert_exporter": "python",
   "pygments_lexer": "ipython3",
   "version": "3.11.3"
  }
 },
 "nbformat": 4,
 "nbformat_minor": 5
}
