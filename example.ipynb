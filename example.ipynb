{
 "cells": [
  {
   "cell_type": "markdown",
   "id": "cf206822",
   "metadata": {},
   "source": [
    "# Heyoo"
   ]
  },
  {
   "cell_type": "code",
   "execution_count": 4,
   "id": "991bce81",
   "metadata": {},
   "outputs": [
    {
     "name": "stdout",
     "output_type": "stream",
     "text": [
      "I am not healed yet\n"
     ]
    }
   ],
   "source": [
    "print(\"I am not healed yet\")"
   ]
  },
  {
   "cell_type": "code",
   "execution_count": 3,
   "id": "c4861bee",
   "metadata": {},
   "outputs": [],
   "source": [
    "a = 4\n"
   ]
  },
  {
   "cell_type": "code",
   "execution_count": 5,
   "id": "4e695a01",
   "metadata": {},
   "outputs": [
    {
     "data": {
      "text/plain": [
       "4"
      ]
     },
     "execution_count": 5,
     "metadata": {},
     "output_type": "execute_result"
    }
   ],
   "source": [
    "a"
   ]
  },
  {
   "cell_type": "markdown",
   "id": "43caf3c1",
   "metadata": {},
   "source": [
    "## Heart disease project"
   ]
  },
  {
   "cell_type": "code",
   "execution_count": 6,
   "id": "7156027b",
   "metadata": {},
   "outputs": [],
   "source": [
    "import pandas as pd"
   ]
  },
  {
   "cell_type": "code",
   "execution_count": null,
   "id": "4c50446f",
   "metadata": {},
   "outputs": [],
   "source": []
  }
 ],
 "metadata": {
  "kernelspec": {
   "display_name": "Python 3 (ipykernel)",
   "language": "python",
   "name": "python3"
  },
  "language_info": {
   "codemirror_mode": {
    "name": "ipython",
    "version": 3
   },
   "file_extension": ".py",
   "mimetype": "text/x-python",
   "name": "python",
   "nbconvert_exporter": "python",
   "pygments_lexer": "ipython3",
   "version": "3.11.3"
  }
 },
 "nbformat": 4,
 "nbformat_minor": 5
}
